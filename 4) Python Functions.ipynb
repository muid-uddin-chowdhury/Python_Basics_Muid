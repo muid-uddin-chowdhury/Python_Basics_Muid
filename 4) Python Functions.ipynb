{
  "cells": [
    {
      "cell_type": "code",
      "execution_count": null,
      "metadata": {
        "colab": {
          "background_save": true
        },
        "id": "Ga4NFJoh8gBU"
      },
      "outputs": [],
      "source": [
        "def str_not(str):\n",
        "  str = input('Please Enter a Sentence : ')\n",
        "\n",
        "  s_not = str.find('not')\n",
        "  s_poor = str.find('poor')\n",
        "\n",
        "  if s_poor > s_not and s_not > 0 and s_poor > 0:\n",
        "    str = str.replace(str[s_not:(s_poor + 4)], 'good')\n",
        "    return str\n",
        "  else:\n",
        "    return str    "
      ]
    },
    {
      "cell_type": "code",
      "execution_count": null,
      "metadata": {
        "id": "rwXGxd1cemri"
      },
      "outputs": [],
      "source": []
    },
    {
      "cell_type": "code",
      "execution_count": null,
      "metadata": {
        "colab": {
          "background_save": true,
          "base_uri": "https://localhost:8080/",
          "height": 564
        },
        "id": "_ofNqOA78ii-",
        "outputId": "f5da636b-ccaf-4a94-c7e3-6ec5d3870bcb"
      },
      "outputs": [
        {
          "name": "stdout",
          "output_type": "stream",
          "text": [
            "0.1608030\n"
          ]
        }
      ],
      "source": [
        "str = 'Mohammad Muid Uddin Chowdhury :0.1608030'\n",
        "roll = str.find(\":\")\n",
        "print(roll)\n",
        "name = str[roll + 1:]\n",
        "print(name)"
      ]
    }
  ],
  "metadata": {
    "colab": {
      "provenance": []
    },
    "kernelspec": {
      "display_name": "Python 3",
      "name": "python3"
    },
    "language_info": {
      "name": "python"
    }
  },
  "nbformat": 4,
  "nbformat_minor": 0
}