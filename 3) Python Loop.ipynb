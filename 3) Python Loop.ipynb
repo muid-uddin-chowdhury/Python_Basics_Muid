{
  "nbformat": 4,
  "nbformat_minor": 0,
  "metadata": {
    "colab": {
      "provenance": []
    },
    "kernelspec": {
      "name": "python3",
      "display_name": "Python 3"
    },
    "language_info": {
      "name": "python"
    }
  },
  "cells": [
    {
      "cell_type": "code",
      "metadata": {
        "colab": {
          "base_uri": "https://localhost:8080/"
        },
        "id": "0dHJfIaCf0to",
        "outputId": "17447c4a-4d73-4da5-dc9e-8603935898af"
      },
      "source": [
        "count = 0\n",
        "sum = 0\n",
        "\n",
        "while True:\n",
        "  number = input('Enter a Number : ')\n",
        "  if number == 'done':\n",
        "    break\n",
        "  try:\n",
        "    num_float = float(number)\n",
        "  except:\n",
        "    print('Invalid Input')\n",
        "    continue\n",
        "  count = count + 1\n",
        "  sum = sum + num_float\n",
        "\n",
        "print('Sum', sum, '\\nCount', count, '\\nAverage', sum/count)"
      ],
      "execution_count": null,
      "outputs": [
        {
          "output_type": "stream",
          "name": "stdout",
          "text": [
            "Enter a Number : 2\n",
            "Enter a Number : 3\n",
            "Enter a Number : 4\n",
            "Enter a Number : done\n",
            "Sum 9.0 \n",
            "Count 3 \n",
            "Average 3.0\n"
          ]
        }
      ]
    },
    {
      "cell_type": "code",
      "metadata": {
        "colab": {
          "base_uri": "https://localhost:8080/"
        },
        "id": "5WiRK8i_i6r9",
        "outputId": "88de9233-7d9a-442f-9474-8bdef6915bc5"
      },
      "source": [
        "a = []\n",
        "\n",
        "for x in range(1500,2701):\n",
        "  if x%7 == 0 and x%5 == 0:\n",
        "    a.append(str(x))\n",
        "\n",
        "print(a)    "
      ],
      "execution_count": null,
      "outputs": [
        {
          "output_type": "stream",
          "name": "stdout",
          "text": [
            "['1505', '1540', '1575', '1610', '1645', '1680', '1715', '1750', '1785', '1820', '1855', '1890', '1925', '1960', '1995', '2030', '2065', '2100', '2135', '2170', '2205', '2240', '2275', '2310', '2345', '2380', '2415', '2450', '2485', '2520', '2555', '2590', '2625', '2660', '2695']\n"
          ]
        }
      ]
    },
    {
      "cell_type": "code",
      "metadata": {
        "colab": {
          "base_uri": "https://localhost:8080/"
        },
        "id": "mNo6cqgQndL1",
        "outputId": "5c3987b2-4a05-4ad8-e5ff-9be066d8cb6e"
      },
      "source": [
        "numbers = [10,21,31,42,145,54,6,7,156,2011,64]\n",
        "count_even = 0\n",
        "count_odd = 0\n",
        "\n",
        "for x in range(len(numbers)):\n",
        "  if x%2 == 0:\n",
        "    count_even = count_even + 1\n",
        "  else:\n",
        "    count_odd = count_odd + 1  \n",
        "\n",
        "print('Number of Even numbers is : ', count_even)\n",
        "print('Number of Odd numbers is : ', count_odd)"
      ],
      "execution_count": null,
      "outputs": [
        {
          "output_type": "stream",
          "name": "stdout",
          "text": [
            "Number of Even numbers is :  6\n",
            "Number of Odd numbers is :  5\n"
          ]
        }
      ]
    },
    {
      "cell_type": "code",
      "metadata": {
        "colab": {
          "base_uri": "https://localhost:8080/"
        },
        "id": "gKhXHF4oo9yu",
        "outputId": "51f31c2a-d7a0-4bbb-8201-d6a4af55c352"
      },
      "source": [
        "a = []\n",
        "\n",
        "for x in range(7):\n",
        "  if x == 3 or x == 6:\n",
        "    continue\n",
        "  a.append(str(x))\n",
        "\n",
        "print('The list is : ', a)"
      ],
      "execution_count": null,
      "outputs": [
        {
          "output_type": "stream",
          "name": "stdout",
          "text": [
            "The list is :  ['0', '1', '2', '4', '5']\n"
          ]
        }
      ]
    },
    {
      "cell_type": "code",
      "metadata": {
        "colab": {
          "base_uri": "https://localhost:8080/"
        },
        "id": "wSRDMslssG4g",
        "outputId": "dfb3e188-1539-4b8a-9386-53e8fdfbbc05"
      },
      "source": [
        "fib_1 = 1\n",
        "fib_2 = 1\n",
        "fib_list = [1,1]\n",
        "\n",
        "for i in range(48):\n",
        "  i = i + 1\n",
        "  fib_2, fib_1 = fib_2 + fib_1 , fib_2\n",
        "  fib_list.append(fib_2)\n",
        "\n",
        "print(fib_list)"
      ],
      "execution_count": null,
      "outputs": [
        {
          "output_type": "stream",
          "name": "stdout",
          "text": [
            "[1, 1, 2, 3, 5, 8, 13, 21, 34, 55, 89, 144, 233, 377, 610, 987, 1597, 2584, 4181, 6765, 10946, 17711, 28657, 46368, 75025, 121393, 196418, 317811, 514229, 832040, 1346269, 2178309, 3524578, 5702887, 9227465, 14930352, 24157817, 39088169, 63245986, 102334155, 165580141, 267914296, 433494437, 701408733, 1134903170, 1836311903, 2971215073, 4807526976, 7778742049, 12586269025]\n"
          ]
        }
      ]
    },
    {
      "cell_type": "code",
      "metadata": {
        "colab": {
          "base_uri": "https://localhost:8080/"
        },
        "id": "WU2xc-R6w-eQ",
        "outputId": "8c4de597-5284-44b2-84da-a115235018bd"
      },
      "source": [
        "start = int(input('Enter the starting number : '))\n",
        "end = int(input('Enter the ending range : '))\n",
        "arrange = []\n",
        "\n",
        "for x in range(start, end+1):\n",
        "  for y in range(2,x):\n",
        "    if x % y == 0:\n",
        "      break\n",
        "  else:\n",
        "    arrange.append(str(x))\n",
        "\n",
        "print('The list of prime number between the range is : ', arrange)    "
      ],
      "execution_count": null,
      "outputs": [
        {
          "output_type": "stream",
          "name": "stdout",
          "text": [
            "Enter the starting number : 1\n",
            "Enter the ending range : 30\n",
            "The list of prime number between the range is :  ['1', '2', '3', '5', '7', '11', '13', '17', '19', '23', '29']\n"
          ]
        }
      ]
    },
    {
      "cell_type": "code",
      "metadata": {
        "colab": {
          "base_uri": "https://localhost:8080/"
        },
        "id": "qhQ6O7mW-V34",
        "outputId": "015c10b6-5083-4aa8-9cc1-d2c9d129ce10"
      },
      "source": [
        "number = int(input('Please Enter a number : '))\n",
        "sum =  0\n",
        "\n",
        "for i in range(number + 1):\n",
        "  sum = sum + i\n",
        "\n",
        "print('The summetion from 1 to', number, 'is : ', sum)"
      ],
      "execution_count": null,
      "outputs": [
        {
          "output_type": "stream",
          "name": "stdout",
          "text": [
            "Please Enter a number : 30\n",
            "The summetion from 1 to 30 is :  465\n"
          ]
        }
      ]
    }
  ]
}