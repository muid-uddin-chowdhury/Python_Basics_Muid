{
  "nbformat": 4,
  "nbformat_minor": 0,
  "metadata": {
    "colab": {
      "provenance": []
    },
    "kernelspec": {
      "name": "python3",
      "display_name": "Python 3"
    },
    "language_info": {
      "name": "python"
    }
  },
  "cells": [
    {
      "cell_type": "code",
      "metadata": {
        "colab": {
          "base_uri": "https://localhost:8080/"
        },
        "id": "6vlMNtEfld6z",
        "outputId": "84cb7069-2eb6-4512-f64e-be308d1a3851"
      },
      "source": [
        "name = input(\"Enter your name : \")\n",
        "print('Hello' , name)"
      ],
      "execution_count": null,
      "outputs": [
        {
          "output_type": "stream",
          "name": "stdout",
          "text": [
            "Enter your name Khondoker Jubayer Rahman\n",
            "Hello Khondoker Jubayer Rahman\n"
          ]
        }
      ]
    },
    {
      "cell_type": "code",
      "metadata": {
        "colab": {
          "base_uri": "https://localhost:8080/"
        },
        "id": "pGiRJr6WmIa_",
        "outputId": "7b09be06-abd7-43f7-9d6a-51693995f415"
      },
      "source": [
        "hours = input('Enter Hours : ')\n",
        "rate = input('Enter Rate : ')\n",
        "pay = float(hours) * float(rate)\n",
        "\n",
        "print(\"Pay : \", pay)"
      ],
      "execution_count": null,
      "outputs": [
        {
          "output_type": "stream",
          "name": "stdout",
          "text": [
            "Enter Hours 35\n",
            "Enter Rate 2.75\n",
            "Pay :  96.25\n"
          ]
        }
      ]
    },
    {
      "cell_type": "code",
      "metadata": {
        "colab": {
          "base_uri": "https://localhost:8080/"
        },
        "id": "rNQnWax4lNht",
        "outputId": "e1502b58-37d5-4325-8f90-0db50529ba6b"
      },
      "source": [
        "celsius = input('Enter temparature in Celsius : ')\n",
        "f_heit = float(celsius) * (9/5) + 32\n",
        "print(\"Temparature in Farenheit : \", f_heit)"
      ],
      "execution_count": null,
      "outputs": [
        {
          "output_type": "stream",
          "name": "stdout",
          "text": [
            "Enter the temparature in Celsius 35\n",
            "Temparature in Farenheit :  95.0\n"
          ]
        }
      ]
    },
    {
      "cell_type": "code",
      "metadata": {
        "colab": {
          "base_uri": "https://localhost:8080/"
        },
        "id": "X6SE7-EereIH",
        "outputId": "8390e2d0-8e95-4031-fee0-2db07a9a239f"
      },
      "source": [
        "height = input('Enter Height : ')\n",
        "width = input('Enter Width : ')\n",
        "area = float(height) * float(width)\n",
        "diag = (float(height)**2 + float(width)**2)**(0.5)\n",
        "peri = 2 * (float(height) + float(width))\n",
        "print(\"Area : \", area, \"\\nDiagonal : \", diag, \"\\nPerimeter : \", peri)\n"
      ],
      "execution_count": null,
      "outputs": [
        {
          "output_type": "stream",
          "name": "stdout",
          "text": [
            "Enter Height : 5\n",
            "Enter Width : 6\n",
            "Area :  30.0 \n",
            "Diagonal :  7.810249675906654 \n",
            "Perimeter :  22.0\n"
          ]
        }
      ]
    },
    {
      "cell_type": "code",
      "metadata": {
        "id": "jQdNm6VmtM5i"
      },
      "source": [
        "height = input('Enter Height : ')\n",
        "base_1 = input('Enter Base 1 Value : ')\n",
        "base_2 = input('Enter Base 2 Value ')\n",
        "area = ((float(base_1) + float(base_2))/2)*float(height)\n",
        "print(\"Area of the Trapezoid is : \", area)"
      ],
      "execution_count": null,
      "outputs": []
    },
    {
      "cell_type": "code",
      "metadata": {
        "id": "A5Xnd8oOio05"
      },
      "source": [
        "import math\n",
        "\n",
        "r = input('Enter radius ')\n",
        "a = input('Enter Angle ')\n",
        "\n",
        "len = (2 * math.pi * float(r)/360) * float(a)\n",
        "area = ((float(a)/360) * 2 * math.pi * float(a))\n",
        "\n",
        "print('Arc lenth ', len,\n",
        "      '\\nSector Area ', area)\n"
      ],
      "execution_count": null,
      "outputs": []
    },
    {
      "cell_type": "code",
      "metadata": {
        "colab": {
          "base_uri": "https://localhost:8080/"
        },
        "id": "qMQKwOFCvfn3",
        "outputId": "6743ea80-6297-4960-b334-d5425c054dc7"
      },
      "source": [
        "import math\n",
        "\n",
        "h = input('Enter Height of the Cylinder: ')\n",
        "r = input('Enter Radius : ')\n",
        "vol = math.pi * float(r)**2 * float(h)\n",
        "area = 2* math.pi * float(r)**2 + 2* math.pi * float(r) * float(h)\n",
        "print(\"Volume of the Cylinder is : \", vol, \"\\nSurface Area of the Cylinder is : \", area)\n"
      ],
      "execution_count": null,
      "outputs": [
        {
          "output_type": "stream",
          "name": "stdout",
          "text": [
            "Enter Height of the Cylinder: 5\n",
            "Enter Radius : 6\n",
            "Volume of the Cylinder is :  565.4866776461628 \n",
            "Surface Area of the Cylinder is :  414.69023027385265\n"
          ]
        }
      ]
    }
  ]
}