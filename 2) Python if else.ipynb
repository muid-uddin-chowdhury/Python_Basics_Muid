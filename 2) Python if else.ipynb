{
  "nbformat": 4,
  "nbformat_minor": 0,
  "metadata": {
    "colab": {
      "provenance": []
    },
    "kernelspec": {
      "display_name": "Python 3",
      "name": "python3"
    },
    "language_info": {
      "name": "python"
    }
  },
  "cells": [
    {
      "cell_type": "code",
      "metadata": {
        "colab": {
          "base_uri": "https://localhost:8080/"
        },
        "id": "LtpTpN_8lRu6",
        "outputId": "3fe54d5f-8a17-433d-d7ea-3bf2307807e2"
      },
      "source": [
        "hours = input('Enter Hours : ')\n",
        "rate = input('Enter Rate : ')\n",
        "\n",
        "if float(hours) > 40:\n",
        "  pay = (float(rate)*1.5*(float(hours)-40)) + 40*float(rate)\n",
        "else:\n",
        "  pay = float(hours)*float(rate)\n",
        "\n",
        "print('Pay : ', pay)    "
      ],
      "execution_count": null,
      "outputs": [
        {
          "output_type": "stream",
          "name": "stdout",
          "text": [
            "Enter Hours : 34\n",
            "Enter Rate : 4\n",
            "Pay :  136.0\n"
          ]
        }
      ]
    },
    {
      "cell_type": "code",
      "metadata": {
        "id": "7BVH2JXgAOxP",
        "colab": {
          "base_uri": "https://localhost:8080/"
        },
        "outputId": "ea441649-0809-44c5-ae6e-b22a1d983176"
      },
      "source": [
        "year = input('Enter Years of Job : ')\n",
        "salary = input('Enter the Amount of Salary : ')\n",
        "\n",
        "if float(year) > 5:\n",
        "  bonus = float(salary)*0.05\n",
        "else:\n",
        "  bonus = 0\n",
        "\n",
        "print('The amount of bonus is : ', bonus)\n"
      ],
      "execution_count": null,
      "outputs": [
        {
          "output_type": "stream",
          "name": "stdout",
          "text": [
            "Enter Years of Job : 4\n",
            "Enter the Amount of Salary : 10000\n",
            "The amount of bonus is :  0\n"
          ]
        }
      ]
    },
    {
      "cell_type": "code",
      "metadata": {
        "colab": {
          "base_uri": "https://localhost:8080/"
        },
        "id": "W7xAaCkt3KjA",
        "outputId": "29f90d31-c12a-46f9-da09-de84548f3f72"
      },
      "source": [
        "length = input('Enter the length of the Rectangle : ')\n",
        "breadth = input('Enter the Breadth of the Rectangle : ')\n",
        "\n",
        "if float(length) == float(breadth):\n",
        "  print('This Rectangle is a Sqaure.')\n",
        "else:\n",
        "  print('This Rectangle is not a Square.')\n",
        "\n",
        "\n"
      ],
      "execution_count": null,
      "outputs": [
        {
          "output_type": "stream",
          "name": "stdout",
          "text": [
            "Enter the length of the Rectangle : 6\n",
            "Enter the Breadth of the Rectangle : 4\n",
            "This Rectangle is not a Square.\n"
          ]
        }
      ]
    },
    {
      "cell_type": "code",
      "metadata": {
        "colab": {
          "base_uri": "https://localhost:8080/"
        },
        "id": "2brLnd0c7y17",
        "outputId": "fdcdd5b9-507c-4c3d-adcc-0b16f6944cc2"
      },
      "source": [
        "a = input('Enter a Number : ')\n",
        "b = input('Enter another Number : ')\n",
        "\n",
        "if int(a) > int(b):\n",
        "  print(a, 'is greater.')\n",
        "else:\n",
        "  print(b, 'is greater.')  \n"
      ],
      "execution_count": null,
      "outputs": [
        {
          "output_type": "stream",
          "name": "stdout",
          "text": [
            "Enter a Number : 6\n",
            "Enter another Number : 4\n",
            "6 is greater.\n"
          ]
        }
      ]
    },
    {
      "cell_type": "code",
      "metadata": {
        "colab": {
          "base_uri": "https://localhost:8080/"
        },
        "id": "q_0vIwz68EbC",
        "outputId": "2d53ea16-2198-47b7-9164-85099152a530"
      },
      "source": [
        "quantity = input('Enter the Quantity of purchase : ')\n",
        "\n",
        "if int(quantity) < 10:\n",
        "  cost = int(quantity) * 100\n",
        "else:\n",
        "  cost = int(quantity) *100 * 0.9  \n",
        "\n",
        "print('Total cost is :', cost)  \n"
      ],
      "execution_count": null,
      "outputs": [
        {
          "output_type": "stream",
          "name": "stdout",
          "text": [
            "Enter the Quantity of purchase : 12\n",
            "Total cost is : 1080.0\n"
          ]
        }
      ]
    },
    {
      "cell_type": "code",
      "metadata": {
        "colab": {
          "base_uri": "https://localhost:8080/"
        },
        "id": "dgg4diGaGu9S",
        "outputId": "78cf427a-4b54-48f1-c16d-871cd534afe3"
      },
      "source": [
        "marks = int(input('Enter Marks : '))\n",
        "\n",
        "if marks > 80 and int(marks) < 100:\n",
        "  print('A')\n",
        "elif marks >= 60:\n",
        "  print('B')\n",
        "elif marks >= 50:\n",
        "  print('C')\n",
        "elif marks >= 45:\n",
        "  print('D')\n",
        "elif marks >= 25:\n",
        "  print('E')\n",
        "else:\n",
        "  print('F')\n"
      ],
      "execution_count": null,
      "outputs": [
        {
          "output_type": "stream",
          "name": "stdout",
          "text": [
            "Enter Marks : 87\n",
            "A\n"
          ]
        }
      ]
    },
    {
      "cell_type": "code",
      "metadata": {
        "colab": {
          "base_uri": "https://localhost:8080/"
        },
        "id": "dszpn-bnHzqb",
        "outputId": "c4670ab0-03fe-43ec-87da-4ed53703d466"
      },
      "source": [
        "a = int(input('Enter the Age of A : '))\n",
        "b = int(input('Enter the Age of B : '))\n",
        "c = int(input('Enter the Age of C : '))\n",
        "\n",
        "if a > b and a > c and b > c:\n",
        "  print('A is the oldest and C is the youngest.')\n",
        "elif b > a and b > c and a > c:\n",
        "  print('B is the oldest and C is the youngest.')  \n",
        "elif c > a and c > b and a > b:\n",
        "  print('C is the oldest and B is the youngest.')\n",
        "elif a > c and a > b and c > b:\n",
        "  print('A is the oldest and B is the youngest.')\n",
        "elif b > c and b > a and c > a:\n",
        "  print('B is the oldest and A is the youngest.')\n",
        "else:\n",
        "  print('C is the oldest and A is the youngest.')        "
      ],
      "execution_count": null,
      "outputs": [
        {
          "output_type": "stream",
          "name": "stdout",
          "text": [
            "Enter the Age of A : 27\n",
            "Enter the Age of B : 25\n",
            "Enter the Age of C : 11\n",
            "A is the oldest and C is the youngest.\n"
          ]
        }
      ]
    },
    {
      "cell_type": "code",
      "metadata": {
        "colab": {
          "base_uri": "https://localhost:8080/"
        },
        "id": "x7xePjlzLH-r",
        "outputId": "ff9d54c4-6777-44d4-e485-d3187621fc32"
      },
      "source": [
        "clas = int(input('Enter the number of Classes held : '))\n",
        "attendence = int(input('Enter the number of classes attended : '))\n",
        "\n",
        "if attendence / clas >= .75:\n",
        "  print('The student is allowed to sit in the examination.')\n",
        "else:\n",
        "  print('The student is not allowed to sit in the examination.')\n"
      ],
      "execution_count": null,
      "outputs": [
        {
          "output_type": "stream",
          "name": "stdout",
          "text": [
            "Enter the number of Classes held : 39\n",
            "Enter the number of classes attended : 35\n",
            "The student is allowed to sit in the examination.\n"
          ]
        }
      ]
    },
    {
      "cell_type": "code",
      "metadata": {
        "id": "R0E0dfkvJs2x"
      },
      "source": [],
      "execution_count": null,
      "outputs": []
    },
    {
      "cell_type": "code",
      "metadata": {
        "id": "Z55iUZZTUjxc",
        "colab": {
          "base_uri": "https://localhost:8080/"
        },
        "outputId": "ee0c7efb-939d-49a3-bd5c-527eb9d62285"
      },
      "source": [
        "clas = int(input('Enter the number of classes held : '))\n",
        "attendence = int(input('Enter the numbers of classes attendend : '))\n",
        "\n",
        "if attendence / clas <= 0.75:\n",
        "  medi = input('Does the student has any Medical Cause? : ')\n",
        "  if medi == 'Y':\n",
        "    print('The student is allowed to sit in the examination.')\n",
        "  else:\n",
        "    if medi == 'N':\n",
        "      print('The student is not allowed to sit in the examination.')\n",
        "\n",
        "else:\n",
        "  print('The student is allowed to sit in the examination.')\n",
        "\n",
        "\n",
        "\n"
      ],
      "execution_count": null,
      "outputs": [
        {
          "output_type": "stream",
          "name": "stdout",
          "text": [
            "Enter the number of classes held : 39\n",
            "Enter the numbers of classes attendend : 20\n",
            "Does the student has any Medical Cause? : Y\n",
            "The student is allowed to sit in the examination.\n"
          ]
        }
      ]
    },
    {
      "cell_type": "code",
      "metadata": {
        "colab": {
          "base_uri": "https://localhost:8080/"
        },
        "id": "6dEToZPdU_Yz",
        "outputId": "baf7f2c1-4f20-4247-8e76-613deec714e5"
      },
      "source": [
        "a = int(input('Enter a Number : '))\n",
        "b = int(input('Enter a Number : '))\n",
        "c = int(input('Enter a number : '))\n",
        "\n",
        "if a > b and a > c and b > c:\n",
        "  print('The ascending to descending order is : {}, {}, {}'.format(a, b, c))\n",
        "elif a > b and a > c and c > b:\n",
        "  print('The ascending to descending order is : {}, {}, {}'.format(a, c ,b))\n",
        "elif b > a and b > c and a > c:\n",
        "  print('The ascending to descending order is : {}, {}, {}'.format(b, a, c))\n",
        "elif b > a and b > c and c > a:\n",
        "  print('The ascending to descending order is : {}, {}, {}'.format(b, c, a))\n",
        "elif c > a and c > b and a > b:\n",
        "  print('The ascending to descending order is : {}, {}, {}'.format(c, a, b))\n",
        "else:\n",
        "  print('The ascending to descending order is : {}, {}, {}'.format(c, b, a))        \n"
      ],
      "execution_count": null,
      "outputs": [
        {
          "output_type": "stream",
          "name": "stdout",
          "text": [
            "Enter a Number : 9\n",
            "Enter a Number : 12\n",
            "Enter a number : 15\n",
            "The ascending to descending order is : 15, 12, 9\n"
          ]
        }
      ]
    },
    {
      "cell_type": "code",
      "metadata": {
        "id": "odbxBi40OIWm"
      },
      "source": [],
      "execution_count": null,
      "outputs": []
    }
  ]
}