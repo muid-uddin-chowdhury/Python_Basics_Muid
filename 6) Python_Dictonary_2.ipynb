{
  "nbformat": 4,
  "nbformat_minor": 0,
  "metadata": {
    "colab": {
      "provenance": []
    },
    "kernelspec": {
      "name": "python3",
      "display_name": "Python 3"
    },
    "language_info": {
      "name": "python"
    }
  },
  "cells": [
    {
      "cell_type": "code",
      "metadata": {
        "colab": {
          "base_uri": "https://localhost:8080/"
        },
        "id": "STlcx6WbT5kf",
        "outputId": "972cd52a-67fa-4d8f-85d3-4d453aa21a8c"
      },
      "source": [
        "!wget https://www.py4e.com/code3/mbox-short.txt\n",
        "!wget https://www.py4e.com/code3/romeo.txt"
      ],
      "execution_count": null,
      "outputs": [
        {
          "output_type": "stream",
          "name": "stdout",
          "text": [
            "--2021-10-09 17:04:27--  https://www.py4e.com/code3/mbox-short.txt\n",
            "Resolving www.py4e.com (www.py4e.com)... 172.67.133.177, 104.21.5.179, 2606:4700:3036::6815:5b3, ...\n",
            "Connecting to www.py4e.com (www.py4e.com)|172.67.133.177|:443... connected.\n",
            "HTTP request sent, awaiting response... 200 OK\n",
            "Length: unspecified [text/plain]\n",
            "Saving to: ‘mbox-short.txt’\n",
            "\n",
            "mbox-short.txt          [ <=>                ]  92.41K  --.-KB/s    in 0.05s   \n",
            "\n",
            "2021-10-09 17:04:28 (1.90 MB/s) - ‘mbox-short.txt’ saved [94626]\n",
            "\n",
            "--2021-10-09 17:04:28--  https://www.py4e.com/code3/romeo.txt\n",
            "Resolving www.py4e.com (www.py4e.com)... 172.67.133.177, 104.21.5.179, 2606:4700:3036::6815:5b3, ...\n",
            "Connecting to www.py4e.com (www.py4e.com)|172.67.133.177|:443... connected.\n",
            "HTTP request sent, awaiting response... 200 OK\n",
            "Length: unspecified [text/plain]\n",
            "Saving to: ‘romeo.txt’\n",
            "\n",
            "romeo.txt               [ <=>                ]     167  --.-KB/s    in 0s      \n",
            "\n",
            "2021-10-09 17:04:28 (20.4 MB/s) - ‘romeo.txt’ saved [167]\n",
            "\n"
          ]
        }
      ]
    },
    {
      "cell_type": "code",
      "metadata": {
        "colab": {
          "base_uri": "https://localhost:8080/"
        },
        "id": "PJ1sthqAT4KF",
        "outputId": "1d3d2387-fbc0-4371-fd36-cd5c180c8fd1"
      },
      "source": [
        "#Exercise1\n",
        "days = dict()                       \n",
        "fname = input('Enter a file name: ')\n",
        "try:\n",
        "    fhand = open(fname)\n",
        "except FileNotFoundError:\n",
        "    print('File cannot be opened:', fname)\n",
        "    exit()\n",
        "\n",
        "for line in fhand:\n",
        "    words = line.split()\n",
        "    if len(words) < 3 or words[0] != 'From':\n",
        "        continue\n",
        "    else:\n",
        "        if words[2] not in days:\n",
        "            days[words[2]] = 1       \n",
        "        else:\n",
        "            days[words[2]] += 1      \n",
        "\n",
        "print(days)"
      ],
      "execution_count": null,
      "outputs": [
        {
          "output_type": "stream",
          "name": "stdout",
          "text": [
            "Enter a file name: mbox-short.txt\n",
            "{'Sat': 1, 'Fri': 20, 'Thu': 6}\n"
          ]
        }
      ]
    },
    {
      "cell_type": "code",
      "metadata": {
        "colab": {
          "base_uri": "https://localhost:8080/"
        },
        "id": "kGEf_hnwda5a",
        "outputId": "206f8b2c-7670-4248-d3e9-bcdf0bc5e8ed"
      },
      "source": [
        "#Exercise2\n",
        "mail = dict()                  \n",
        "fname = input('Enter file name: ')\n",
        "try:\n",
        "    fhand = open(fname)\n",
        "except FileNotFoundError:\n",
        "    print('File cannot be opened:', fname)\n",
        "    exit()\n",
        "\n",
        "for line in fhand:\n",
        "    words = line.split()\n",
        "    if len(words) < 2 or words[0] != 'From':\n",
        "        continue\n",
        "    else:\n",
        "        if words[1] not in mail:\n",
        "            mail[words[1]] = 1  \n",
        "        else:\n",
        "            mail[words[1]] += 1     \n",
        "\n",
        "print(mail)\n"
      ],
      "execution_count": null,
      "outputs": [
        {
          "output_type": "stream",
          "name": "stdout",
          "text": [
            "Enter file name: mbox-short.txt\n",
            "{'stephen.marquard@uct.ac.za': 2, 'louis@media.berkeley.edu': 3, 'zqian@umich.edu': 4, 'rjlowe@iupui.edu': 2, 'cwen@iupui.edu': 5, 'gsilver@umich.edu': 3, 'wagnermr@iupui.edu': 1, 'antranig@caret.cam.ac.uk': 1, 'gopal.ramasammycook@gmail.com': 1, 'david.horwitz@uct.ac.za': 4, 'ray@media.berkeley.edu': 1}\n"
          ]
        }
      ]
    },
    {
      "cell_type": "code",
      "metadata": {
        "colab": {
          "base_uri": "https://localhost:8080/"
        },
        "id": "UQ6tN5heedlv",
        "outputId": "88bb6947-0e8a-4559-98c3-966c2db85395"
      },
      "source": [
        "\n",
        "#Exercise3\n",
        "   \n",
        "fname = input('Enter file name: ')\n",
        "try:\n",
        "\tfhandle = open(fname)\n",
        "except:\n",
        "\tprint ('File cannot be opened:', fname)\n",
        "\texit()\n",
        "emails = dict()\n",
        "for line in fhandle:\n",
        "\tif line.startswith('From '):\n",
        "\t\tline = line.split()\n",
        "\t\temail = line[1]\n",
        "\t\temails[email] = emails.get(email,0) + 1\n",
        "largest = None\n",
        "for key in emails:\n",
        "\tif largest is None or emails[key] > largest:\n",
        "\t\tlargest = emails[key]\n",
        "\t\tsender = key\n",
        "print( sender, largest)"
      ],
      "execution_count": null,
      "outputs": [
        {
          "output_type": "stream",
          "name": "stdout",
          "text": [
            "Enter file name: mbox-short.txt\n",
            "cwen@iupui.edu 5\n"
          ]
        }
      ]
    },
    {
      "cell_type": "code",
      "metadata": {
        "id": "S7CkJJCOoveX",
        "colab": {
          "base_uri": "https://localhost:8080/"
        },
        "outputId": "bcaffffb-9796-42f3-d2ff-52591377138a"
      },
      "source": [
        "#Exercise4\n",
        "domains = dict()                      \n",
        "\n",
        "fname = input('Enter file name: ')\n",
        "try:\n",
        "    fhand = open(fname)\n",
        "except FileNotFoundError:\n",
        "    print('File cannot be opened:', fname)\n",
        "    quit()\n",
        "\n",
        "for line in fhand:\n",
        "    words = line.split()\n",
        "    if len(words) < 2 or words[0] != 'From':\n",
        "        continue\n",
        "    else:\n",
        "        atpos = words[1].find('@')              \n",
        "        domain = words[1][atpos + 1:]              \n",
        "        if domain not in domains:\n",
        "            domains[domain] = 1       \n",
        "        else:\n",
        "            domains[domain] += 1      \n",
        "\n",
        "print(domains)"
      ],
      "execution_count": null,
      "outputs": [
        {
          "output_type": "stream",
          "name": "stdout",
          "text": [
            "Enter file name: mbox-short.txt\n",
            "{'uct.ac.za': 6, 'media.berkeley.edu': 4, 'umich.edu': 7, 'iupui.edu': 8, 'caret.cam.ac.uk': 1, 'gmail.com': 1}\n"
          ]
        }
      ]
    },
    {
      "cell_type": "code",
      "metadata": {
        "id": "OgTK5dJup_TI",
        "colab": {
          "base_uri": "https://localhost:8080/"
        },
        "outputId": "4cb84d7b-2821-4ebd-9944-49e477b8c680"
      },
      "source": [
        "#Exercise5\n",
        "dictionary_addresses = dict()           \n",
        "lst = list()\n",
        "fname = input('Enter file name: ')\n",
        "try:\n",
        "    fhand = open(fname)\n",
        "except FileNotFoundError:\n",
        "    print('File cannot be opened:', fname)\n",
        "    quit()\n",
        "for line in fhand:\n",
        "    words = line.split()\n",
        "    if len(words) < 2 or words[0] != 'From':\n",
        "        continue\n",
        "    else:\n",
        "        if words[1] not in dictionary_addresses:\n",
        "            dictionary_addresses[words[1]] = 1      \n",
        "        else:\n",
        "            dictionary_addresses[words[1]] += 1     \n",
        "for key, val in list(dictionary_addresses.items()):\n",
        "    lst.append((val, key))              \n",
        "lst.sort(reverse=True)                 \n",
        "for count, email in lst[:1]:           \n",
        "    print(email, count)"
      ],
      "execution_count": null,
      "outputs": [
        {
          "output_type": "stream",
          "name": "stdout",
          "text": [
            "Enter file name: mbox-short.txt\n",
            "cwen@iupui.edu 5\n"
          ]
        }
      ]
    },
    {
      "cell_type": "code",
      "metadata": {
        "id": "kc-1sAzPqQlj",
        "colab": {
          "base_uri": "https://localhost:8080/"
        },
        "outputId": "9bda6b23-665d-4858-a9b9-f1c429389f3e"
      },
      "source": [
        "#Exercise6\n",
        "hours = dict()               \n",
        "lst = list()\n",
        "fname = input('Enter file name: ')\n",
        "try:\n",
        "    fhand = open(fname)\n",
        "except FileNotFoundError:\n",
        "    print('File cannot be opened:', fname)\n",
        "    quit()\n",
        "\n",
        "for line in fhand:\n",
        "    words = line.split()\n",
        "    if len(words) < 5 or words[0] != 'From':\n",
        "        continue\n",
        "    col_pos = words[5].find(':')\n",
        "    hour = words[5][:col_pos]\n",
        "    if hour not in hours:\n",
        "        hours[hour] = 1\n",
        "    else:\n",
        "        hours[hour] += 1     \n",
        "for key, val in list(hours.items()):\n",
        "    lst.append((key, val))              \n",
        "lst.sort()                              \n",
        "for key, val in lst:\n",
        "    print(key, val)"
      ],
      "execution_count": null,
      "outputs": [
        {
          "output_type": "stream",
          "name": "stdout",
          "text": [
            "Enter file name: mbox-short.txt\n",
            "04 3\n",
            "06 1\n",
            "07 1\n",
            "09 2\n",
            "10 3\n",
            "11 6\n",
            "14 1\n",
            "15 2\n",
            "16 4\n",
            "17 2\n",
            "18 1\n",
            "19 1\n"
          ]
        }
      ]
    }
  ]
}